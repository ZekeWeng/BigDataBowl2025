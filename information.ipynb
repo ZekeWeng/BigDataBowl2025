{
 "cells": [
  {
   "cell_type": "code",
   "execution_count": 1,
   "metadata": {},
   "outputs": [],
   "source": [
    "import polars as pl\n",
    "# import preprocessing\n",
    "\n",
    "weeks = []\n",
    "for week in range(1,10):\n",
    "    df = pl.read_csv(f\"/Users/zekeweng/Dropbox/BigDataBowl/presnap/week_{week}.csv\", null_values=[\"NA\"])\n",
    "    weeks.append(df)\n",
    "\n",
    "df = pl.concat(weeks)\n",
    "\n",
    "# offense = df.filter(pl.col(\"club\") == pl.col(\"possessionTeam\"))\n",
    "# defense = df.filter(pl.col(\"club\") == pl.col(\"defensiveTeam\"))"
   ]
  },
  {
   "cell_type": "markdown",
   "metadata": {},
   "source": [
    "### Types of ZoneHybridMan"
   ]
  },
  {
   "cell_type": "code",
   "execution_count": 9,
   "metadata": {},
   "outputs": [
    {
     "name": "stdout",
     "output_type": "stream",
     "text": [
      "shape: (2, 2)\n",
      "┌─────────────┬───────┐\n",
      "│ pff_manZone ┆ count │\n",
      "│ ---         ┆ ---   │\n",
      "│ str         ┆ u32   │\n",
      "╞═════════════╪═══════╡\n",
      "│ Man         ┆ 3460  │\n",
      "│ Zone        ┆ 9761  │\n",
      "└─────────────┴───────┘\n",
      "shape: (2, 2)\n",
      "┌─────────────┬───────────────┐\n",
      "│ pff_manZone ┆ scaled_weight │\n",
      "│ ---         ┆ ---           │\n",
      "│ str         ┆ f64           │\n",
      "╞═════════════╪═══════════════╡\n",
      "│ Man         ┆ 3.82          │\n",
      "│ Zone        ┆ 1.36          │\n",
      "└─────────────┴───────────────┘\n"
     ]
    }
   ],
   "source": [
    "coverage_counts = (\n",
    "    df\n",
    "    .group_by([\"gameId\", \"playId\"])\n",
    "    .agg(pl.col(\"pff_manZone\").first().alias(\"pff_manZone\"))\n",
    "    .group_by(\"pff_manZone\")\n",
    "    .agg(pl.len().alias(\"count\"))\n",
    "    .sort(\"pff_manZone\")\n",
    ")\n",
    "\n",
    "print(coverage_counts)\n",
    "\n",
    "total_samples = coverage_counts[\"count\"].sum()\n",
    "num_classes = len(coverage_counts)\n",
    "\n",
    "weights = coverage_counts.with_columns([\n",
    "    ((total_samples / (num_classes * pl.col(\"count\"))).round(2)).alias(\"weight\")\n",
    "]).with_columns([\n",
    "    ((pl.col(\"weight\") * 2).round(2)).alias(\"scaled_weight\")\n",
    "]).select([\"pff_manZone\", \"scaled_weight\"])\n",
    "\n",
    "print(weights)"
   ]
  },
  {
   "cell_type": "markdown",
   "metadata": {},
   "source": [
    "### Types of Pass Coverage"
   ]
  },
  {
   "cell_type": "code",
   "execution_count": 10,
   "metadata": {},
   "outputs": [
    {
     "name": "stdout",
     "output_type": "stream",
     "text": [
      "shape: (6, 2)\n",
      "┌─────────────┬───────┐\n",
      "│ defCoverage ┆ count │\n",
      "│ ---         ┆ ---   │\n",
      "│ str         ┆ u32   │\n",
      "╞═════════════╪═══════╡\n",
      "│ Cover-0     ┆ 492   │\n",
      "│ Cover-1     ┆ 2968  │\n",
      "│ Cover-2     ┆ 1702  │\n",
      "│ Cover-3     ┆ 5010  │\n",
      "│ Cover-6     ┆ 1243  │\n",
      "│ Quarters    ┆ 1806  │\n",
      "└─────────────┴───────┘\n",
      "shape: (6, 2)\n",
      "┌─────────────┬───────────────┐\n",
      "│ defCoverage ┆ scaled_weight │\n",
      "│ ---         ┆ ---           │\n",
      "│ str         ┆ f64           │\n",
      "╞═════════════╪═══════════════╡\n",
      "│ Cover-0     ┆ 8.96          │\n",
      "│ Cover-1     ┆ 1.48          │\n",
      "│ Cover-2     ┆ 2.58          │\n",
      "│ Cover-3     ┆ 0.88          │\n",
      "│ Cover-6     ┆ 3.54          │\n",
      "│ Quarters    ┆ 2.44          │\n",
      "└─────────────┴───────────────┘\n"
     ]
    }
   ],
   "source": [
    "coverage_counts = (\n",
    "    df\n",
    "    .group_by([\"gameId\", \"playId\"])\n",
    "    .agg(pl.col(\"defCoverage\").first().alias(\"defCoverage\"))\n",
    "    .group_by(\"defCoverage\")\n",
    "    .agg(pl.len().alias(\"count\"))\n",
    "    .sort(\"defCoverage\")\n",
    ")\n",
    "\n",
    "print(coverage_counts)\n",
    "\n",
    "total_samples = coverage_counts[\"count\"].sum()\n",
    "num_classes = len(coverage_counts)\n",
    "\n",
    "weights = coverage_counts.with_columns([\n",
    "    ((total_samples / (num_classes * pl.col(\"count\"))).round(2)).alias(\"weight\")\n",
    "]).with_columns([\n",
    "    ((pl.col(\"weight\") * 2).round(2)).alias(\"scaled_weight\")\n",
    "]).select([\"defCoverage\", \"scaled_weight\"])\n",
    "\n",
    "\n",
    "print(weights)\n"
   ]
  },
  {
   "cell_type": "markdown",
   "metadata": {},
   "source": [
    "### Types of Offensive Plays (run / pass)"
   ]
  },
  {
   "cell_type": "code",
   "execution_count": 12,
   "metadata": {},
   "outputs": [
    {
     "name": "stdout",
     "output_type": "stream",
     "text": [
      "shape: (2, 2)\n",
      "┌─────────┬───────┐\n",
      "│ runPass ┆ count │\n",
      "│ ---     ┆ ---   │\n",
      "│ str     ┆ u32   │\n",
      "╞═════════╪═══════╡\n",
      "│ PASS    ┆ 8190  │\n",
      "│ RUN     ┆ 5031  │\n",
      "└─────────┴───────┘\n",
      "shape: (2, 2)\n",
      "┌─────────┬───────────────┐\n",
      "│ runPass ┆ scaled_weight │\n",
      "│ ---     ┆ ---           │\n",
      "│ str     ┆ f64           │\n",
      "╞═════════╪═══════════════╡\n",
      "│ PASS    ┆ 1.62          │\n",
      "│ RUN     ┆ 2.62          │\n",
      "└─────────┴───────────────┘\n"
     ]
    }
   ],
   "source": [
    "offensive_plays = (\n",
    "    df\n",
    "    .group_by([\"gameId\", \"playId\"])\n",
    "    .agg(pl.col(\"runPass\").first().alias(\"runPass\"))\n",
    "    .group_by(\"runPass\")\n",
    "    .agg(pl.len().alias(\"count\"))\n",
    "    .sort(\"runPass\")\n",
    ")\n",
    "\n",
    "print(offensive_plays)\n",
    "\n",
    "total_samples = offensive_plays[\"count\"].sum()\n",
    "num_classes = len(offensive_plays)\n",
    "\n",
    "weights = offensive_plays.with_columns([\n",
    "    ((total_samples / (num_classes * pl.col(\"count\"))).round(2)).alias(\"weight\")\n",
    "]).with_columns([\n",
    "    ((pl.col(\"weight\") * 2).round(2)).alias(\"scaled_weight\")\n",
    "]).select([\"runPass\", \"scaled_weight\"])\n",
    "\n",
    "\n",
    "\n",
    "print(weights)\n"
   ]
  },
  {
   "cell_type": "markdown",
   "metadata": {},
   "source": [
    "### Motions in each defCov"
   ]
  },
  {
   "cell_type": "code",
   "execution_count": null,
   "metadata": {},
   "outputs": [],
   "source": [
    "grouped = df.group_by([\"gameId\", \"playId\"], maintain_order=True).agg([\n",
    "    pl.col(\"inMotionAtBallSnap\").max().alias(\"inMotionAtBallSnap\"),\n",
    "    pl.col(\"shiftSinceLineset\").max().alias(\"shiftSinceLineset\"),\n",
    "    pl.col(\"motionSinceLineset\").max().alias(\"motionSinceLineset\"),\n",
    "])\n",
    "\n",
    "df.group_by(\"defCoverage\", maintain_order=True).agg([\n",
    "    pl.col(\"inMotionAtBallSnap\").mean().alias(\"inMotionAtBallSnap\"),\n",
    "    pl.col(\"shiftSinceLineset\").mean().alias(\"shiftSinceLineset\"),\n",
    "    pl.col(\"motionSinceLineset\").mean().alias(\"motionSinceLineset\"),\n",
    "])"
   ]
  },
  {
   "cell_type": "markdown",
   "metadata": {},
   "source": [
    "### Number of Presnap Frames (per play)"
   ]
  },
  {
   "cell_type": "code",
   "execution_count": null,
   "metadata": {},
   "outputs": [],
   "source": [
    "import polars as pl\n",
    "import matplotlib.pyplot as plt\n",
    "\n",
    "result = (\n",
    "    df\n",
    "    .group_by([\"gameId\", \"playId\"])\n",
    "    .agg(pl.col(\"frameId\").max().alias(\"max_frameId\"))\n",
    "    .sort([\"gameId\", \"playId\"])\n",
    ")\n",
    "\n",
    "max_frame_ids = result[\"max_frameId\"].to_pandas()\n",
    "\n",
    "plt.figure(figsize=(8, 6))\n",
    "plt.hist(max_frame_ids, bins=200, edgecolor=\"black\", alpha=0.7)\n",
    "plt.xlabel(\"Frames\", fontsize=12)\n",
    "plt.ylabel(\"Frequency\", fontsize=12)\n",
    "plt.title(\"Frequency of Presnap Frames per Play\", fontsize=14)\n",
    "plt.grid(axis=\"y\", linestyle=\"--\", alpha=0.7)\n",
    "plt.show()"
   ]
  },
  {
   "cell_type": "code",
   "execution_count": null,
   "metadata": {},
   "outputs": [],
   "source": [
    "/Users/zekeweng/Dropbox/BigDataBowl/Model/Features/features_test.pt"
   ]
  }
 ],
 "metadata": {
  "kernelspec": {
   "display_name": "env",
   "language": "python",
   "name": "python3"
  },
  "language_info": {
   "codemirror_mode": {
    "name": "ipython",
    "version": 3
   },
   "file_extension": ".py",
   "mimetype": "text/x-python",
   "name": "python",
   "nbconvert_exporter": "python",
   "pygments_lexer": "ipython3",
   "version": "3.11.5"
  }
 },
 "nbformat": 4,
 "nbformat_minor": 2
}
