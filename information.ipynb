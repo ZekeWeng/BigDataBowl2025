{
 "cells": [
  {
   "cell_type": "code",
   "execution_count": 1,
   "metadata": {},
   "outputs": [],
   "source": [
    "import polars as pl"
   ]
  },
  {
   "cell_type": "markdown",
   "metadata": {},
   "source": []
  },
  {
   "cell_type": "code",
   "execution_count": 2,
   "metadata": {},
   "outputs": [],
   "source": [
    "presnap_offense = pl.read_csv(\"data/outputs/presnap_offense.csv\", null_values=[\"NA\"])\n",
    "presnap_defense = pl.read_csv(\"data/outputs/presnap_defense.csv\", null_values=[\"NA\"])"
   ]
  },
  {
   "cell_type": "code",
   "execution_count": 6,
   "metadata": {},
   "outputs": [],
   "source": [
    "week_offense = presnap_offense.select(pl.col(\"week\") == 1)\n",
    "week_defense = presnap_defense.select(pl.col(\"week\") == 1)\n",
    "\n",
    "week_defense.write_csv(\"data/outputs/presnap_defense_w1.csv\")\n",
    "week_offense.write_csv(\"data/outputs/presnap_offense_w1.csv\")"
   ]
  },
  {
   "cell_type": "markdown",
   "metadata": {},
   "source": [
    "### passCoverage Distributions"
   ]
  },
  {
   "cell_type": "code",
   "execution_count": 4,
   "metadata": {},
   "outputs": [
    {
     "name": "stdout",
     "output_type": "stream",
     "text": [
      "shape: (9, 2)\n",
      "┌──────────────┬───────┐\n",
      "│ passCoverage ┆ count │\n",
      "│ ---          ┆ ---   │\n",
      "│ str          ┆ u32   │\n",
      "╞══════════════╪═══════╡\n",
      "│ 2-Man        ┆ 185   │\n",
      "│ Cover-0      ┆ 605   │\n",
      "│ Cover-1      ┆ 3353  │\n",
      "│ Cover-2      ┆ 1850  │\n",
      "│ Cover-3      ┆ 5660  │\n",
      "│ Cover-6      ┆ 1382  │\n",
      "│ Goal Line    ┆ 146   │\n",
      "│ Quarters     ┆ 2072  │\n",
      "│ Red Zone     ┆ 536   │\n",
      "└──────────────┴───────┘\n"
     ]
    }
   ],
   "source": [
    "coverage_counts = (\n",
    "    presnap_offense.group_by([\"gameId\", \"playId\"])\n",
    "    .agg(pl.col(\"pff_passCoverage\").first().alias(\"passCoverage\"))\n",
    "    .group_by(\"passCoverage\")\n",
    "    .agg(pl.len().alias(\"count\"))\n",
    "    .sort(\"passCoverage\")\n",
    ")\n",
    "\n",
    "print(coverage_counts)"
   ]
  },
  {
   "cell_type": "markdown",
   "metadata": {},
   "source": [
    "### offensivePlays Distributions"
   ]
  },
  {
   "cell_type": "code",
   "execution_count": 5,
   "metadata": {},
   "outputs": [
    {
     "name": "stdout",
     "output_type": "stream",
     "text": [
      "shape: (8, 2)\n",
      "┌────────────────────┬───────┐\n",
      "│ offensivePlay      ┆ count │\n",
      "│ ---                ┆ ---   │\n",
      "│ str                ┆ u32   │\n",
      "╞════════════════════╪═══════╡\n",
      "│ PASS_MIDDLE        ┆ 7444  │\n",
      "│ PASS_OUTSIDE_LEFT  ┆ 465   │\n",
      "│ PASS_OUTSIDE_RIGHT ┆ 787   │\n",
      "│ RPO                ┆ 1632  │\n",
      "│ RUN_INSIDE_LEFT    ┆ 1567  │\n",
      "│ RUN_INSIDE_RIGHT   ┆ 1578  │\n",
      "│ RUN_OUTSIDE_LEFT   ┆ 1073  │\n",
      "│ RUN_OUTSIDE_RIGHT  ┆ 1243  │\n",
      "└────────────────────┴───────┘\n"
     ]
    }
   ],
   "source": [
    "offensive_plays = (\n",
    "    presnap_defense.group_by([\"gameId\", \"playId\"])\n",
    "    .agg(pl.col(\"offensivePlay\").first().alias(\"offensivePlay\"))\n",
    "    .group_by(\"offensivePlay\")\n",
    "    .agg(pl.len().alias(\"count\"))\n",
    "    .sort(\"offensivePlay\")\n",
    ")\n",
    "\n",
    "print(offensive_plays)"
   ]
  },
  {
   "cell_type": "code",
   "execution_count": null,
   "metadata": {},
   "outputs": [],
   "source": []
  }
 ],
 "metadata": {
  "kernelspec": {
   "display_name": "env",
   "language": "python",
   "name": "python3"
  },
  "language_info": {
   "codemirror_mode": {
    "name": "ipython",
    "version": 3
   },
   "file_extension": ".py",
   "mimetype": "text/x-python",
   "name": "python",
   "nbconvert_exporter": "python",
   "pygments_lexer": "ipython3",
   "version": "3.11.5"
  }
 },
 "nbformat": 4,
 "nbformat_minor": 2
}
